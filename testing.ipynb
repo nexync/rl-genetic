{
 "cells": [
  {
   "cell_type": "code",
   "execution_count": 4,
   "metadata": {},
   "outputs": [
    {
     "data": {
      "text/plain": [
       "[[[0, 0], [0, 0], [0, 0], [0, 0], [0, 0]],\n",
       " [[0, 0], [0, 0], [0, 0], [0, 0], [0, 0]],\n",
       " [[0, 0], [0, 0], [0, 0], [0, 0], [0, 0]],\n",
       " [[0, 0], [0, 0], [0, 0], [0, 0], [0, 0]],\n",
       " [[0, 0], [0, 0], [0, 0], [0, 0], [0, 0]]]"
      ]
     },
     "execution_count": 4,
     "metadata": {},
     "output_type": "execute_result"
    }
   ],
   "source": [
    "board_length = 5\n",
    "board_width = 5\n",
    "k = [[[0] * 2 for i in range(board_length)] for j in range(board_width)]\n",
    "k"
   ]
  },
  {
   "cell_type": "code",
   "execution_count": 25,
   "metadata": {},
   "outputs": [
    {
     "name": "stdout",
     "output_type": "stream",
     "text": [
      "[23, 1, 21, 12, 10, 14, 5, 0, 3, 2, 15, 11, 7, 13, 22, 17, 24, 16, 8, 4, 20, 19, 6, 9, 18]\n",
      "defaultdict(<function <lambda> at 0x000001FE0C032550>, {4: 5, 0: 5, 2: 5, 1: 5, 3: 5})\n",
      "defaultdict(<function <lambda> at 0x000001FE0BEBECA0>, {3: 5, 1: 5, 2: 5, 0: 5, 4: 5})\n"
     ]
    }
   ],
   "source": [
    "import numpy as np\n",
    "import random \n",
    "import collections\n",
    "\n",
    "x = list(range(25))\n",
    "random.shuffle(x)\n",
    "print(x)\n",
    "\n",
    "xcounter = collections.defaultdict(lambda: 0)\n",
    "ycounter = collections.defaultdict(lambda: 0)\n",
    "for i in x:\n",
    "\t#print(i//5, i%5)\n",
    "\txcounter[i//5] += 1\n",
    "\tycounter[i%5] += 1\n",
    "print(xcounter)\n",
    "print(ycounter)\n",
    "\t"
   ]
  }
 ],
 "metadata": {
  "interpreter": {
   "hash": "c241f4fe90d8cf69420260ffed18c387d24414056a50b27d1ed5e05e2a74b277"
  },
  "kernelspec": {
   "display_name": "Python 3.9.7 ('rl-genetic')",
   "language": "python",
   "name": "python3"
  },
  "language_info": {
   "codemirror_mode": {
    "name": "ipython",
    "version": 3
   },
   "file_extension": ".py",
   "mimetype": "text/x-python",
   "name": "python",
   "nbconvert_exporter": "python",
   "pygments_lexer": "ipython3",
   "version": "3.9.7"
  },
  "orig_nbformat": 4
 },
 "nbformat": 4,
 "nbformat_minor": 2
}
