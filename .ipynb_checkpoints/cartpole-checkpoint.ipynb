{
 "cells": [
  {
   "cell_type": "code",
   "execution_count": 1,
   "id": "3cc132f9-71f7-4474-8125-af59604c706f",
   "metadata": {},
   "outputs": [],
   "source": [
    "import matplotlib.pyplot as plt\n",
    "import gym\n",
    "from IPython import display\n",
    "%matplotlib inline\n",
    "env = gym.make('CartPole-v0')"
   ]
  },
  {
   "cell_type": "code",
   "execution_count": 2,
   "id": "52ead826-65f6-4fa8-9089-d2358137f817",
   "metadata": {},
   "outputs": [
    {
     "name": "stdout",
     "output_type": "stream",
     "text": [
      "Box([-4.8000002e+00 -3.4028235e+38 -4.1887903e-01 -3.4028235e+38], [4.8000002e+00 3.4028235e+38 4.1887903e-01 3.4028235e+38], (4,), float32)\n",
      "Discrete(2)\n"
     ]
    }
   ],
   "source": [
    "print(env.observation_space)\n",
    "print(env.action_space)"
   ]
  },
  {
   "cell_type": "code",
   "execution_count": 3,
   "id": "03b7d609-dc09-48b0-8bbc-6b411aaf8d7a",
   "metadata": {},
   "outputs": [
    {
     "data": {
      "text/plain": [
       "array([ 0.03880385, -0.03644115, -0.00643382, -0.01485287], dtype=float32)"
      ]
     },
     "execution_count": 3,
     "metadata": {},
     "output_type": "execute_result"
    }
   ],
   "source": [
    "env.reset()"
   ]
  },
  {
   "cell_type": "code",
   "execution_count": 13,
   "id": "e691ba22-6f1f-480d-994f-82c467d78eae",
   "metadata": {},
   "outputs": [
    {
     "name": "stdout",
     "output_type": "stream",
     "text": [
      "[-0.12889609 -1.145766    0.22302017  1.9903542 ] 1.0 14\n"
     ]
    },
    {
     "data": {
      "image/png": "[encoded data removed]",
      "text/plain": [
       "<Figure size 432x288 with 1 Axes>"
      ]
     },
     "metadata": {
      "needs_background": "light"
     },
     "output_type": "display_data"
    }
   ],
   "source": [
    "done = False\n",
    "env.reset()\n",
    "counter = 0\n",
    "while not done:\n",
    "    plt.imshow(env.render(mode='rgb_array'))\n",
    "    display.display(plt.gcf())    \n",
    "    display.clear_output(wait=True)\n",
    "    action = env.action_space.sample()\n",
    "    pos, rew, done, _ = env.step(action)\n",
    "    counter += 1\n",
    "    if done:\n",
    "        print(pos, rew, counter)\n",
    "env.close()"
   ]
  },
  {
   "cell_type": "code",
   "execution_count": 3,
   "id": "66c6294d-2acf-4d12-8b44-0bed16d3bec1",
   "metadata": {},
   "outputs": [],
   "source": [
    "from collections import deque\n",
    "import random\n",
    "import math\n",
    "\n",
    "import gym\n",
    "import numpy as np\n",
    "import torch\n",
    "import torch.nn as nn\n",
    "import torch.nn.functional as F"
   ]
  },
  {
   "cell_type": "code",
   "execution_count": 4,
   "id": "fee97b5f-5c77-4661-9fb3-16b114fb45a6",
   "metadata": {},
   "outputs": [],
   "source": [
    "class DQN(nn.Module):\n",
    "    def __init__(self):\n",
    "        super().__init__()\n",
    "        self.fc1 = nn.Linear(4, 24)\n",
    "        self.fc2 = nn.Linear(24, 48)\n",
    "        self.fc3 = nn.Linear(48, 2)\n",
    "    def forward(self, x):        \n",
    "        x = self.fc1(x)\n",
    "        x = F.relu(x)\n",
    "        x = self.fc2(x)\n",
    "        x = F.relu(x)\n",
    "        x = self.fc3(x)\n",
    "        return x"
   ]
  },
  {
   "cell_type": "code",
   "execution_count": 5,
   "id": "73f1475e-9e79-4f39-9b85-c25c03794798",
   "metadata": {},
   "outputs": [],
   "source": [
    "class DQNCartPoleSolver:\n",
    "    def __init__(self, n_episodes=2000, n_win_ticks=195, max_env_steps=None, gamma=1.0, epsilon=1.0, epsilon_min=0.01, epsilon_log_decay=0.995, alpha=0.01, alpha_decay=0.01, batch_size=64, monitor=False, quiet=False):\n",
    "        self.memory = deque(maxlen=100000)\n",
    "        self.env = gym.make('CartPole-v0')\n",
    "        if monitor: \n",
    "            self.env = gym.wrappers.Monitor(self.env, '../data/cartpole-1', force=True)\n",
    "        self.gamma = gamma\n",
    "        self.epsilon = epsilon\n",
    "        self.epsilon_min = epsilon_min\n",
    "        self.epsilon_decay = epsilon_log_decay\n",
    "        self.alpha = alpha\n",
    "        self.alpha_decay = alpha_decay\n",
    "        self.n_episodes = n_episodes\n",
    "        self.n_win_ticks = n_win_ticks\n",
    "        self.batch_size = batch_size\n",
    "        self.quiet = quiet\n",
    "        if max_env_steps is not None: \n",
    "            self.env._max_episode_steps = max_env_steps\n",
    "            \n",
    "        # Init model\n",
    "        self.dqn = DQN()\n",
    "        self.criterion = torch.nn.MSELoss()\n",
    "        self.opt = torch.optim.Adam(self.dqn.parameters(), lr=0.01)\n",
    "        \n",
    "    def get_epsilon(self, t):\n",
    "        #returns some epsilon value based on t that gives a bound on when the agent should act randomly\n",
    "        return max(self.epsilon_min, min(self.epsilon, 1.0 - math.log10((t + 1) * self.epsilon_decay)))\n",
    "    \n",
    "    def preprocess_state(self, state):\n",
    "        #puts the state into a tensor to allow for transforms\n",
    "        return torch.tensor(np.reshape(state, [1, 4]), dtype=torch.float32) \n",
    "    \n",
    "    def choose_action(self, state, epsilon):\n",
    "        #if random drawn number is less than epsilon, act randomly\n",
    "        #else, choose greedy from dqn output\n",
    "        if (np.random.random() <= epsilon):\n",
    "            return self.env.action_space.sample() \n",
    "        else:\n",
    "            with torch.no_grad():\n",
    "                return torch.argmax(self.dqn(state)).numpy()\n",
    "    \n",
    "    def remember(self, state, action, reward, next_state, done):\n",
    "        #add past actions to deque memory\n",
    "        reward = torch.tensor(reward)\n",
    "        self.memory.append((state, action, reward, next_state, done))\n",
    "    \n",
    "    def replay(self, batch_size):\n",
    "        #take a random minibatch from memory - largeset minibatch size is given by batch_size\n",
    "        #for each minibatch, y is the dqn action from state\n",
    "        \n",
    "        #reward is +1 for surviving another tick, +0 for not living\n",
    "        y_batch, y_target_batch = [], []\n",
    "        minibatch = random.sample(self.memory, min(len(self.memory), batch_size))\n",
    "        for state, action, reward, next_state, done in minibatch:\n",
    "            y = self.dqn(state)\n",
    "            y_target = y.clone().detach()\n",
    "            with torch.no_grad():\n",
    "                y_target[0][action] = reward if done else reward + self.gamma * torch.max(self.dqn(next_state)[0])\n",
    "            y_batch.append(y[0])\n",
    "            y_target_batch.append(y_target[0])\n",
    "        \n",
    "        y_batch = torch.cat(y_batch)\n",
    "        y_target_batch = torch.cat(y_target_batch)\n",
    "        \n",
    "        self.opt.zero_grad()\n",
    "        loss = self.criterion(y_batch, y_target_batch)\n",
    "        loss.backward()\n",
    "        self.opt.step()        \n",
    "        \n",
    "        if self.epsilon > self.epsilon_min:\n",
    "            self.epsilon *= self.epsilon_decay\n",
    "            \n",
    "    def run(self):\n",
    "        scores = deque(maxlen=100)\n",
    "        \n",
    "        for e in range(self.n_episodes):\n",
    "            state = self.preprocess_state(self.env.reset())\n",
    "            done = False\n",
    "            i = 0\n",
    "            while not done:\n",
    "                if e % 100 == 0 and not self.quiet:\n",
    "                    self.env.render()\n",
    "                action = self.choose_action(state, self.get_epsilon(e))\n",
    "                next_state, reward, done, _ = self.env.step(action)\n",
    "                next_state = self.preprocess_state(next_state)\n",
    "                self.remember(state, action, reward, next_state, done)\n",
    "                state = next_state\n",
    "                i += 1\n",
    "            \n",
    "            scores.append(i)\n",
    "            mean_score = np.mean(scores)\n",
    "            if mean_score >= self.n_win_ticks and e >= 100:\n",
    "                if not self.quiet: print('Ran {} episodes. Solved after {} trials ✔'.format(e, e - 100))\n",
    "                return e - 100\n",
    "            if e % 100 == 0 and not self.quiet:\n",
    "                print('[Episode {}] - Mean survival time over last 100 episodes was {} ticks.'.format(e, mean_score))\n",
    "            self.replay(self.batch_size)\n",
    "        \n",
    "        if not self.quiet: print('Did not solve after {} episodes'.format(e))\n",
    "        return e"
   ]
  },
  {
   "cell_type": "code",
   "execution_count": 6,
   "id": "7a3d00de-9701-48e5-a117-1b5fc8ca6e6f",
   "metadata": {},
   "outputs": [
    {
     "name": "stdout",
     "output_type": "stream",
     "text": [
      "[Episode 0] - Mean survival time over last 100 episodes was 59.0 ticks.\n",
      "[Episode 100] - Mean survival time over last 100 episodes was 15.17 ticks.\n",
      "[Episode 200] - Mean survival time over last 100 episodes was 30.61 ticks.\n",
      "[Episode 300] - Mean survival time over last 100 episodes was 64.38 ticks.\n",
      "[Episode 400] - Mean survival time over last 100 episodes was 64.32 ticks.\n",
      "[Episode 500] - Mean survival time over last 100 episodes was 104.4 ticks.\n",
      "[Episode 600] - Mean survival time over last 100 episodes was 138.47 ticks.\n",
      "[Episode 700] - Mean survival time over last 100 episodes was 131.25 ticks.\n",
      "[Episode 800] - Mean survival time over last 100 episodes was 123.09 ticks.\n",
      "[Episode 900] - Mean survival time over last 100 episodes was 194.56 ticks.\n",
      "Ran 908 episodes. Solved after 808 trials ✔\n"
     ]
    }
   ],
   "source": [
    "agent = DQNCartPoleSolver()\n",
    "agent.run()\n",
    "agent.env.close()"
   ]
  },
  {
   "cell_type": "code",
   "execution_count": 12,
   "id": "b50c0231-acc4-4845-a7fa-529ac419c0bb",
   "metadata": {},
   "outputs": [
    {
     "name": "stdout",
     "output_type": "stream",
     "text": [
      "(array([ 0.4204885 ,  0.9172531 ,  0.00251121, -0.93296623], dtype=float32), 1.0, True, {'TimeLimit.truncated': True}) 200\n"
     ]
    }
   ],
   "source": [
    "e = 1000\n",
    "state = agent.preprocess_state(agent.env.reset())\n",
    "done = False\n",
    "i = 0\n",
    "while not done:\n",
    "    with torch.no_grad():\n",
    "        agent.env.render()\n",
    "        action = agent.choose_action(state, agent.get_epsilon(e))\n",
    "        next_state, reward, done, _ = agent.env.step(action)\n",
    "        next_state = agent.preprocess_state(next_state)\n",
    "        #self.remember(state, action, reward, next_state, done)\n",
    "        state = next_state\n",
    "        i += 1\n",
    "print(agent.env.step(action), i)\n",
    "agent.env.close()"
   ]
  }
 ],
 "metadata": {
  "kernelspec": {
   "display_name": "Python 3 (ipykernel)",
   "language": "python",
   "name": "python3"
  },
  "language_info": {
   "codemirror_mode": {
    "name": "ipython",
    "version": 3
   },
   "file_extension": ".py",
   "mimetype": "text/x-python",
   "name": "python",
   "nbconvert_exporter": "python",
   "pygments_lexer": "ipython3",
   "version": "3.9.7"
  }
 },
 "nbformat": 4,
 "nbformat_minor": 5
}
